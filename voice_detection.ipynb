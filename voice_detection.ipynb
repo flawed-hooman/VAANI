{
 "cells": [
  {
   "cell_type": "code",
   "execution_count": 137,
   "metadata": {
    "execution": {
     "iopub.execute_input": "2023-12-01T16:55:57.234803Z",
     "iopub.status.busy": "2023-12-01T16:55:57.233746Z",
     "iopub.status.idle": "2023-12-01T16:56:26.559225Z",
     "shell.execute_reply": "2023-12-01T16:56:26.557505Z",
     "shell.execute_reply.started": "2023-12-01T16:55:57.234763Z"
    },
    "id": "wFpjkLcAt-wm",
    "outputId": "01649be2-11ae-4e7b-bf79-ade6b3db58a7"
   },
   "outputs": [
    {
     "name": "stdout",
     "output_type": "stream",
     "text": [
      "Requirement already satisfied: tensorflow-gpu==2.8.0 in /opt/conda/lib/python3.10/site-packages (2.8.0)\n",
      "Requirement already satisfied: absl-py>=0.4.0 in /opt/conda/lib/python3.10/site-packages (from tensorflow-gpu==2.8.0) (1.4.0)\n",
      "Requirement already satisfied: astunparse>=1.6.0 in /opt/conda/lib/python3.10/site-packages (from tensorflow-gpu==2.8.0) (1.6.3)\n",
      "Requirement already satisfied: flatbuffers>=1.12 in /opt/conda/lib/python3.10/site-packages (from tensorflow-gpu==2.8.0) (23.5.26)\n",
      "Requirement already satisfied: gast>=0.2.1 in /opt/conda/lib/python3.10/site-packages (from tensorflow-gpu==2.8.0) (0.4.0)\n",
      "Requirement already satisfied: google-pasta>=0.1.1 in /opt/conda/lib/python3.10/site-packages (from tensorflow-gpu==2.8.0) (0.2.0)\n",
      "Requirement already satisfied: h5py>=2.9.0 in /opt/conda/lib/python3.10/site-packages (from tensorflow-gpu==2.8.0) (3.9.0)\n",
      "Requirement already satisfied: keras-preprocessing>=1.1.1 in /opt/conda/lib/python3.10/site-packages (from tensorflow-gpu==2.8.0) (1.1.2)\n",
      "Requirement already satisfied: libclang>=9.0.1 in /opt/conda/lib/python3.10/site-packages (from tensorflow-gpu==2.8.0) (16.0.6)\n",
      "Requirement already satisfied: numpy>=1.20 in /opt/conda/lib/python3.10/site-packages (from tensorflow-gpu==2.8.0) (1.24.3)\n",
      "Requirement already satisfied: opt-einsum>=2.3.2 in /opt/conda/lib/python3.10/site-packages (from tensorflow-gpu==2.8.0) (3.3.0)\n",
      "Requirement already satisfied: protobuf>=3.9.2 in /opt/conda/lib/python3.10/site-packages (from tensorflow-gpu==2.8.0) (3.20.3)\n",
      "Requirement already satisfied: setuptools in /opt/conda/lib/python3.10/site-packages (from tensorflow-gpu==2.8.0) (68.1.2)\n",
      "Requirement already satisfied: six>=1.12.0 in /opt/conda/lib/python3.10/site-packages (from tensorflow-gpu==2.8.0) (1.16.0)\n",
      "Requirement already satisfied: termcolor>=1.1.0 in /opt/conda/lib/python3.10/site-packages (from tensorflow-gpu==2.8.0) (2.3.0)\n",
      "Requirement already satisfied: typing-extensions>=3.6.6 in /opt/conda/lib/python3.10/site-packages (from tensorflow-gpu==2.8.0) (4.5.0)\n",
      "Requirement already satisfied: wrapt>=1.11.0 in /opt/conda/lib/python3.10/site-packages (from tensorflow-gpu==2.8.0) (1.15.0)\n",
      "Requirement already satisfied: tensorboard<2.9,>=2.8 in /opt/conda/lib/python3.10/site-packages (from tensorflow-gpu==2.8.0) (2.8.0)\n",
      "Requirement already satisfied: tf-estimator-nightly==2.8.0.dev2021122109 in /opt/conda/lib/python3.10/site-packages (from tensorflow-gpu==2.8.0) (2.8.0.dev2021122109)\n",
      "Requirement already satisfied: keras<2.9,>=2.8.0rc0 in /opt/conda/lib/python3.10/site-packages (from tensorflow-gpu==2.8.0) (2.8.0)\n",
      "Requirement already satisfied: tensorflow-io-gcs-filesystem>=0.23.1 in /opt/conda/lib/python3.10/site-packages (from tensorflow-gpu==2.8.0) (0.25.0)\n",
      "Requirement already satisfied: grpcio<2.0,>=1.24.3 in /opt/conda/lib/python3.10/site-packages (from tensorflow-gpu==2.8.0) (1.57.0)\n",
      "Requirement already satisfied: wheel<1.0,>=0.23.0 in /opt/conda/lib/python3.10/site-packages (from astunparse>=1.6.0->tensorflow-gpu==2.8.0) (0.41.2)\n",
      "Requirement already satisfied: google-auth<3,>=1.6.3 in /opt/conda/lib/python3.10/site-packages (from tensorboard<2.9,>=2.8->tensorflow-gpu==2.8.0) (2.22.0)\n",
      "Requirement already satisfied: google-auth-oauthlib<0.5,>=0.4.1 in /opt/conda/lib/python3.10/site-packages (from tensorboard<2.9,>=2.8->tensorflow-gpu==2.8.0) (0.4.6)\n",
      "Requirement already satisfied: markdown>=2.6.8 in /opt/conda/lib/python3.10/site-packages (from tensorboard<2.9,>=2.8->tensorflow-gpu==2.8.0) (3.4.4)\n",
      "Requirement already satisfied: requests<3,>=2.21.0 in /opt/conda/lib/python3.10/site-packages (from tensorboard<2.9,>=2.8->tensorflow-gpu==2.8.0) (2.31.0)\n",
      "Requirement already satisfied: tensorboard-data-server<0.7.0,>=0.6.0 in /opt/conda/lib/python3.10/site-packages (from tensorboard<2.9,>=2.8->tensorflow-gpu==2.8.0) (0.6.1)\n",
      "Requirement already satisfied: tensorboard-plugin-wit>=1.6.0 in /opt/conda/lib/python3.10/site-packages (from tensorboard<2.9,>=2.8->tensorflow-gpu==2.8.0) (1.8.1)\n",
      "Requirement already satisfied: werkzeug>=0.11.15 in /opt/conda/lib/python3.10/site-packages (from tensorboard<2.9,>=2.8->tensorflow-gpu==2.8.0) (3.0.1)\n",
      "Requirement already satisfied: cachetools<6.0,>=2.0.0 in /opt/conda/lib/python3.10/site-packages (from google-auth<3,>=1.6.3->tensorboard<2.9,>=2.8->tensorflow-gpu==2.8.0) (4.2.4)\n",
      "Requirement already satisfied: pyasn1-modules>=0.2.1 in /opt/conda/lib/python3.10/site-packages (from google-auth<3,>=1.6.3->tensorboard<2.9,>=2.8->tensorflow-gpu==2.8.0) (0.2.7)\n",
      "Requirement already satisfied: rsa<5,>=3.1.4 in /opt/conda/lib/python3.10/site-packages (from google-auth<3,>=1.6.3->tensorboard<2.9,>=2.8->tensorflow-gpu==2.8.0) (4.9)\n",
      "Requirement already satisfied: urllib3<2.0 in /opt/conda/lib/python3.10/site-packages (from google-auth<3,>=1.6.3->tensorboard<2.9,>=2.8->tensorflow-gpu==2.8.0) (1.26.15)\n",
      "Requirement already satisfied: requests-oauthlib>=0.7.0 in /opt/conda/lib/python3.10/site-packages (from google-auth-oauthlib<0.5,>=0.4.1->tensorboard<2.9,>=2.8->tensorflow-gpu==2.8.0) (1.3.1)\n",
      "Requirement already satisfied: charset-normalizer<4,>=2 in /opt/conda/lib/python3.10/site-packages (from requests<3,>=2.21.0->tensorboard<2.9,>=2.8->tensorflow-gpu==2.8.0) (3.2.0)\n",
      "Requirement already satisfied: idna<4,>=2.5 in /opt/conda/lib/python3.10/site-packages (from requests<3,>=2.21.0->tensorboard<2.9,>=2.8->tensorflow-gpu==2.8.0) (3.4)\n",
      "Requirement already satisfied: certifi>=2017.4.17 in /opt/conda/lib/python3.10/site-packages (from requests<3,>=2.21.0->tensorboard<2.9,>=2.8->tensorflow-gpu==2.8.0) (2023.7.22)\n",
      "Requirement already satisfied: MarkupSafe>=2.1.1 in /opt/conda/lib/python3.10/site-packages (from werkzeug>=0.11.15->tensorboard<2.9,>=2.8->tensorflow-gpu==2.8.0) (2.1.3)\n",
      "Requirement already satisfied: pyasn1<0.5.0,>=0.4.6 in /opt/conda/lib/python3.10/site-packages (from pyasn1-modules>=0.2.1->google-auth<3,>=1.6.3->tensorboard<2.9,>=2.8->tensorflow-gpu==2.8.0) (0.4.8)\n",
      "Requirement already satisfied: oauthlib>=3.0.0 in /opt/conda/lib/python3.10/site-packages (from requests-oauthlib>=0.7.0->google-auth-oauthlib<0.5,>=0.4.1->tensorboard<2.9,>=2.8->tensorflow-gpu==2.8.0) (3.2.2)\n",
      "Requirement already satisfied: tensorflow-io==0.25.0 in /opt/conda/lib/python3.10/site-packages (0.25.0)\n",
      "Requirement already satisfied: tensorflow-io-gcs-filesystem==0.25.0 in /opt/conda/lib/python3.10/site-packages (from tensorflow-io==0.25.0) (0.25.0)\n"
     ]
    }
   ],
   "source": [
    "!pip install tensorflow-gpu==2.8.0\n",
    "import tensorflow as tf\n",
    "\n",
    "!pip install tensorflow-io==0.25.0"
   ]
  },
  {
   "cell_type": "code",
   "execution_count": 138,
   "metadata": {
    "execution": {
     "iopub.execute_input": "2023-12-01T16:56:26.565204Z",
     "iopub.status.busy": "2023-12-01T16:56:26.564045Z",
     "iopub.status.idle": "2023-12-01T16:56:41.098393Z",
     "shell.execute_reply": "2023-12-01T16:56:41.096683Z",
     "shell.execute_reply.started": "2023-12-01T16:56:26.565155Z"
    },
    "id": "0N_7iGxkjeTg",
    "outputId": "b918b17c-b01f-4d82-b0b6-61a2e726c9c1"
   },
   "outputs": [
    {
     "name": "stdout",
     "output_type": "stream",
     "text": [
      "Requirement already satisfied: scipy in /opt/conda/lib/python3.10/site-packages (1.11.3)\n",
      "Requirement already satisfied: numpy<1.28.0,>=1.21.6 in /opt/conda/lib/python3.10/site-packages (from scipy) (1.24.3)\n",
      "Note: you may need to restart the kernel to use updated packages.\n"
     ]
    }
   ],
   "source": [
    "pip install scipy"
   ]
  },
  {
   "cell_type": "code",
   "execution_count": 139,
   "metadata": {
    "execution": {
     "iopub.execute_input": "2023-12-01T16:56:46.046906Z",
     "iopub.status.busy": "2023-12-01T16:56:46.046267Z",
     "iopub.status.idle": "2023-12-01T16:56:46.056316Z",
     "shell.execute_reply": "2023-12-01T16:56:46.055120Z",
     "shell.execute_reply.started": "2023-12-01T16:56:46.046837Z"
    },
    "id": "0EwdXja-sU_7"
   },
   "outputs": [],
   "source": [
    "import os\n",
    "\n",
    "from IPython import display\n",
    "import matplotlib.pyplot as plt\n",
    "import numpy as np\n",
    "import pandas as pd\n",
    "\n",
    "import tensorflow as tf\n",
    "import tensorflow_hub as hub\n",
    "import tensorflow_io as tfio"
   ]
  },
  {
   "cell_type": "code",
   "execution_count": 140,
   "metadata": {
    "execution": {
     "iopub.execute_input": "2023-12-01T16:56:51.685112Z",
     "iopub.status.busy": "2023-12-01T16:56:51.684695Z",
     "iopub.status.idle": "2023-12-01T16:56:57.052511Z",
     "shell.execute_reply": "2023-12-01T16:56:57.051415Z",
     "shell.execute_reply.started": "2023-12-01T16:56:51.685079Z"
    },
    "id": "qFqjSgAVtz_q"
   },
   "outputs": [],
   "source": [
    "yamnet_model_handle = 'https://tfhub.dev/google/yamnet/1'\n",
    "yamnet_model = hub.load(yamnet_model_handle)"
   ]
  },
  {
   "cell_type": "code",
   "execution_count": 115,
   "metadata": {
    "execution": {
     "iopub.execute_input": "2023-12-01T16:55:34.276040Z",
     "iopub.status.busy": "2023-12-01T16:55:34.274435Z",
     "iopub.status.idle": "2023-12-01T16:55:34.284587Z",
     "shell.execute_reply": "2023-12-01T16:55:34.283107Z",
     "shell.execute_reply.started": "2023-12-01T16:55:34.275997Z"
    },
    "id": "APQaM1E_t4vV",
    "outputId": "ab10ba82-8b8a-437d-aef6-0807300743be"
   },
   "outputs": [
    {
     "name": "stdout",
     "output_type": "stream",
     "text": [
      "./datasets/all data.zip\n"
     ]
    }
   ],
   "source": [
    "testing_wav_file_name = tf.keras.utils.get_file('all data.zip',origin=\"/kaggle/input/new-one\",\n",
    "                                                cache_dir='./',\n",
    "                                                cache_subdir='datasets',\n",
    "                                                extract=True)\n",
    "\n",
    "print(testing_wav_file_name)"
   ]
  },
  {
   "cell_type": "code",
   "execution_count": 161,
   "metadata": {
    "execution": {
     "iopub.execute_input": "2023-12-01T17:03:03.146908Z",
     "iopub.status.busy": "2023-12-01T17:03:03.146445Z",
     "iopub.status.idle": "2023-12-01T17:03:03.165409Z",
     "shell.execute_reply": "2023-12-01T17:03:03.164500Z",
     "shell.execute_reply.started": "2023-12-01T17:03:03.146842Z"
    },
    "id": "eSV27abO-_Tx"
   },
   "outputs": [
    {
     "data": {
      "text/html": [
       "<div>\n",
       "<style scoped>\n",
       "    .dataframe tbody tr th:only-of-type {\n",
       "        vertical-align: middle;\n",
       "    }\n",
       "\n",
       "    .dataframe tbody tr th {\n",
       "        vertical-align: top;\n",
       "    }\n",
       "\n",
       "    .dataframe thead th {\n",
       "        text-align: right;\n",
       "    }\n",
       "</style>\n",
       "<table border=\"1\" class=\"dataframe\">\n",
       "  <thead>\n",
       "    <tr style=\"text-align: right;\">\n",
       "      <th></th>\n",
       "      <th>File_name</th>\n",
       "      <th>Person_id</th>\n",
       "    </tr>\n",
       "  </thead>\n",
       "  <tbody>\n",
       "    <tr>\n",
       "      <th>0</th>\n",
       "      <td>0_19_male/0_19_male_0.wav</td>\n",
       "      <td>0</td>\n",
       "    </tr>\n",
       "    <tr>\n",
       "      <th>1</th>\n",
       "      <td>0_19_male/0_19_male_1.wav</td>\n",
       "      <td>0</td>\n",
       "    </tr>\n",
       "    <tr>\n",
       "      <th>2</th>\n",
       "      <td>0_19_male/0_19_male_2.wav</td>\n",
       "      <td>0</td>\n",
       "    </tr>\n",
       "    <tr>\n",
       "      <th>3</th>\n",
       "      <td>0_19_male/0_19_male_3.wav</td>\n",
       "      <td>0</td>\n",
       "    </tr>\n",
       "    <tr>\n",
       "      <th>4</th>\n",
       "      <td>0_19_male/0_19_male_4.wav</td>\n",
       "      <td>0</td>\n",
       "    </tr>\n",
       "  </tbody>\n",
       "</table>\n",
       "</div>"
      ],
      "text/plain": [
       "                   File_name  Person_id\n",
       "0  0_19_male/0_19_male_0.wav          0\n",
       "1  0_19_male/0_19_male_1.wav          0\n",
       "2  0_19_male/0_19_male_2.wav          0\n",
       "3  0_19_male/0_19_male_3.wav          0\n",
       "4  0_19_male/0_19_male_4.wav          0"
      ]
     },
     "execution_count": 161,
     "metadata": {},
     "output_type": "execute_result"
    }
   ],
   "source": [
    "annonations_files = '/kaggle/input/new-one/train_mapping.csv'\n",
    "audio_dir_path = '/kaggle/input/new-one/training_split/'\n",
    "\n",
    "pd_data = pd.read_csv(annonations_files)\n",
    "pd_data.head()\n"
   ]
  },
  {
   "cell_type": "code",
   "execution_count": 117,
   "metadata": {
    "execution": {
     "iopub.execute_input": "2023-12-01T16:55:34.324304Z",
     "iopub.status.busy": "2023-12-01T16:55:34.323937Z",
     "iopub.status.idle": "2023-12-01T16:55:34.330463Z",
     "shell.execute_reply": "2023-12-01T16:55:34.329283Z",
     "shell.execute_reply.started": "2023-12-01T16:55:34.324273Z"
    },
    "id": "4XyGnBjvDskx"
   },
   "outputs": [],
   "source": [
    "data={'File_name':['/kaggle/input/new-one/training_split/0_19_male/0_19_male_0.wav',\n",
    "                   '/kaggle/input/new-one/training_split/10_21_female/10_21_female_0.wav'],\n",
    "      'Person_id':[0,0]}\n",
    "\n",
    "df = pd.DataFrame(data)"
   ]
  },
  {
   "cell_type": "code",
   "execution_count": 142,
   "metadata": {
    "execution": {
     "iopub.execute_input": "2023-12-01T16:57:33.452657Z",
     "iopub.status.busy": "2023-12-01T16:57:33.452178Z",
     "iopub.status.idle": "2023-12-01T16:57:33.458425Z",
     "shell.execute_reply": "2023-12-01T16:57:33.457160Z",
     "shell.execute_reply.started": "2023-12-01T16:57:33.452618Z"
    },
    "id": "dZYBFlaajc_n"
   },
   "outputs": [],
   "source": [
    "import torchaudio\n",
    "import torch"
   ]
  },
  {
   "cell_type": "code",
   "execution_count": 143,
   "metadata": {
    "execution": {
     "iopub.execute_input": "2023-12-01T16:57:36.360559Z",
     "iopub.status.busy": "2023-12-01T16:57:36.360150Z",
     "iopub.status.idle": "2023-12-01T16:57:36.366101Z",
     "shell.execute_reply": "2023-12-01T16:57:36.364505Z",
     "shell.execute_reply.started": "2023-12-01T16:57:36.360527Z"
    },
    "id": "EYO5wVr3lwci"
   },
   "outputs": [],
   "source": [
    "target_sample_rate = 16000\n",
    "num_samples = 16000"
   ]
  },
  {
   "cell_type": "code",
   "execution_count": 144,
   "metadata": {
    "execution": {
     "iopub.execute_input": "2023-12-01T16:57:40.330069Z",
     "iopub.status.busy": "2023-12-01T16:57:40.329642Z",
     "iopub.status.idle": "2023-12-01T16:57:40.340082Z",
     "shell.execute_reply": "2023-12-01T16:57:40.338943Z",
     "shell.execute_reply.started": "2023-12-01T16:57:40.330036Z"
    },
    "id": "Ionw8l5lj9an"
   },
   "outputs": [],
   "source": [
    "def _cut_if_necessary(signal):\n",
    "        if signal.shape[1] > num_samples:\n",
    "            signal = signal[:, :num_samples]\n",
    "        return signal\n",
    "\n",
    "def _right_pad_if_necessary(signal):\n",
    "        length_signal = signal.shape[1]\n",
    "        if length_signal < num_samples:\n",
    "            num_missing_samples = num_samples - length_signal\n",
    "            last_dim_padding = (0, num_missing_samples)\n",
    "            signal = torch.nn.functional.pad(signal, last_dim_padding)\n",
    "        return signal\n",
    "\n",
    "def _resample_if_necessary(signal, sr):\n",
    "        if sr !=target_sample_rate:\n",
    "            resampler = torchaudio.transforms.Resample(sr,target_sample_rate)\n",
    "            signal = resampler(signal)\n",
    "        return signal\n",
    "\n",
    "def _mix_down_if_necessary(signal):\n",
    "        if signal.shape[0] > 1:\n",
    "            signal = torch.mean(signal, dim=0, keepdim=True)\n",
    "        return signal"
   ]
  },
  {
   "cell_type": "code",
   "execution_count": 145,
   "metadata": {
    "execution": {
     "iopub.execute_input": "2023-12-01T16:57:48.220840Z",
     "iopub.status.busy": "2023-12-01T16:57:48.220281Z",
     "iopub.status.idle": "2023-12-01T16:57:48.231010Z",
     "shell.execute_reply": "2023-12-01T16:57:48.229249Z",
     "shell.execute_reply.started": "2023-12-01T16:57:48.220792Z"
    },
    "id": "8gzPb3UDuGgU"
   },
   "outputs": [],
   "source": [
    "#@tf.function\n",
    "def load_wav_16k_mono(filename):\n",
    "    \"\"\" Load a WAV file, convert it to a float tensor, resample to 16 kHz single-channel audio. \"\"\"\n",
    "    # file_contents = tf.io.read_file(filename)\n",
    "    # wav, sample_rate = tf.audio.decode_wav(\n",
    "    #       file_contents,\n",
    "    #       desired_channels=1)\n",
    "    # wav = tf.squeeze(wav, axis=-1)\n",
    "    # sample_rate = tf.cast(sample_rate, dtype=tf.int64)\n",
    "    # wav = tfio.audio.resample(wav, rate_in=sample_rate, rate_out=16000)\n",
    "\n",
    "\n",
    "\n",
    "\n",
    "\n",
    "\n",
    "\n",
    "    signal, sr = torchaudio.load(filename)\n",
    "    signal =_resample_if_necessary(signal, sr)\n",
    "    signal =_mix_down_if_necessary(signal)\n",
    "    signal =_cut_if_necessary(signal)\n",
    "    signal =_right_pad_if_necessary(signal)\n",
    "    return signal.numpy().reshape(-1,)\n",
    "    # return wav"
   ]
  },
  {
   "cell_type": "code",
   "execution_count": 146,
   "metadata": {
    "execution": {
     "iopub.execute_input": "2023-12-01T16:57:52.875193Z",
     "iopub.status.busy": "2023-12-01T16:57:52.874723Z",
     "iopub.status.idle": "2023-12-01T16:57:52.881408Z",
     "shell.execute_reply": "2023-12-01T16:57:52.879895Z",
     "shell.execute_reply.started": "2023-12-01T16:57:52.875147Z"
    },
    "id": "xwYRjjsDs4MR"
   },
   "outputs": [],
   "source": [
    "def tensor_to_numpy(tensor):\n",
    "    return tensor.numpy()"
   ]
  },
  {
   "cell_type": "code",
   "execution_count": 123,
   "metadata": {
    "execution": {
     "iopub.execute_input": "2023-12-01T16:55:34.397341Z",
     "iopub.status.busy": "2023-12-01T16:55:34.397005Z",
     "iopub.status.idle": "2023-12-01T16:55:34.407487Z",
     "shell.execute_reply": "2023-12-01T16:55:34.406372Z",
     "shell.execute_reply.started": "2023-12-01T16:55:34.397312Z"
    },
    "id": "rERe3Xb0j3jL"
   },
   "outputs": [],
   "source": [
    "# import tensorflow as tf\n",
    "# import tensorflow_io as tfio\n",
    "# from scipy.io.wavfile import read\n",
    "\n",
    "# def load_wav_16k_mono(filename_tensor):\n",
    "#     \"\"\" Load a WAV file, convert it to a float tensor, resample to 16 kHz single-channel audio. \"\"\"\n",
    "#     def load_wav(filename):\n",
    "#         # Read the WAV file using scipy\n",
    "#         sample_rate, wav_data = read(filename)\n",
    "\n",
    "#         # Convert to float32\n",
    "#         wav = tf.convert_to_tensor(wav_data, dtype=tf.float32)\n",
    "\n",
    "#         # Resample to 16 kHz\n",
    "#         wav = tfio.audio.resample(tf.reshape(wav, [1, -1]), rate_in=sample_rate, rate_out=16000)\n",
    "#         wav = tf.squeeze(wav)  # Remove the unnecessary dimension\n",
    "\n",
    "#         # If necessary, trim the waveform to 16000 samples\n",
    "#         if wav.shape[0] > 16000:\n",
    "#             wav = wav[:16000]\n",
    "\n",
    "#         return wav\n",
    "\n",
    "#     # Ensure that filename_tensor is a string tensor\n",
    "#     filename_tensor = tf.convert_to_tensor(filename_tensor, dtype=tf.string)\n",
    "\n",
    "#     # Use tf.numpy_function to enable eager execution within the function\n",
    "#     wav = tf.numpy_function(load_wav, [filename_tensor], tf.float32)\n",
    "\n",
    "#     return wav\n"
   ]
  },
  {
   "cell_type": "code",
   "execution_count": 148,
   "metadata": {
    "execution": {
     "iopub.execute_input": "2023-12-01T16:58:17.897613Z",
     "iopub.status.busy": "2023-12-01T16:58:17.897167Z",
     "iopub.status.idle": "2023-12-01T16:58:17.918601Z",
     "shell.execute_reply": "2023-12-01T16:58:17.917210Z",
     "shell.execute_reply.started": "2023-12-01T16:58:17.897582Z"
    },
    "id": "OS7JAiCFBSLY"
   },
   "outputs": [],
   "source": [
    "testing_wav_data = load_wav_16k_mono('/kaggle/input/new-one/training_split/0_19_male/0_19_male_0.wav')\n",
    "#_ = plt.plot(testing_wav_data)"
   ]
  },
  {
   "cell_type": "code",
   "execution_count": 149,
   "metadata": {
    "execution": {
     "iopub.execute_input": "2023-12-01T16:58:21.951717Z",
     "iopub.status.busy": "2023-12-01T16:58:21.950618Z",
     "iopub.status.idle": "2023-12-01T16:58:21.959452Z",
     "shell.execute_reply": "2023-12-01T16:58:21.958293Z",
     "shell.execute_reply.started": "2023-12-01T16:58:21.951678Z"
    },
    "id": "zJYCW5WEK1aN",
    "outputId": "5ce015cf-60db-4b08-d1d9-05acc9e1af09"
   },
   "outputs": [
    {
     "data": {
      "text/plain": [
       "numpy.ndarray"
      ]
     },
     "execution_count": 149,
     "metadata": {},
     "output_type": "execute_result"
    }
   ],
   "source": [
    "type(testing_wav_data)"
   ]
  },
  {
   "cell_type": "code",
   "execution_count": 150,
   "metadata": {
    "execution": {
     "iopub.execute_input": "2023-12-01T16:58:24.968059Z",
     "iopub.status.busy": "2023-12-01T16:58:24.967619Z",
     "iopub.status.idle": "2023-12-01T16:58:24.974815Z",
     "shell.execute_reply": "2023-12-01T16:58:24.973524Z",
     "shell.execute_reply.started": "2023-12-01T16:58:24.968025Z"
    },
    "id": "2rGz4h1zbLMn",
    "outputId": "8d0d6604-a6c0-4035-e429-835cf6490f32"
   },
   "outputs": [
    {
     "name": "stdout",
     "output_type": "stream",
     "text": [
      "Input Shape: (16000,)\n"
     ]
    }
   ],
   "source": [
    "print(\"Input Shape:\", testing_wav_data.shape)\n"
   ]
  },
  {
   "cell_type": "code",
   "execution_count": 151,
   "metadata": {
    "execution": {
     "iopub.execute_input": "2023-12-01T16:58:28.584900Z",
     "iopub.status.busy": "2023-12-01T16:58:28.584425Z",
     "iopub.status.idle": "2023-12-01T16:58:29.019565Z",
     "shell.execute_reply": "2023-12-01T16:58:29.018312Z",
     "shell.execute_reply.started": "2023-12-01T16:58:28.584862Z"
    },
    "id": "S0yE2OPn776l",
    "outputId": "06f59f82-5e67-4540-8907-b2b2ac2a2937"
   },
   "outputs": [
    {
     "name": "stdout",
     "output_type": "stream",
     "text": [
      "<class 'tensorflow.python.framework.ops.EagerTensor'>\n",
      "The embeddings shape: (2, 1024)\n"
     ]
    }
   ],
   "source": [
    "scores, embeddings, spectrogram = yamnet_model(testing_wav_data)\n",
    "class_scores = tf.reduce_mean(scores, axis=0)\n",
    "top_class = tf.argmax(class_scores)\n",
    "\n",
    "\n",
    "print(type(embeddings))\n",
    "print(f'The embeddings shape: {embeddings.shape}')"
   ]
  },
  {
   "cell_type": "code",
   "execution_count": 154,
   "metadata": {
    "execution": {
     "iopub.execute_input": "2023-12-01T16:59:54.173178Z",
     "iopub.status.busy": "2023-12-01T16:59:54.172423Z",
     "iopub.status.idle": "2023-12-01T16:59:54.179012Z",
     "shell.execute_reply": "2023-12-01T16:59:54.177602Z",
     "shell.execute_reply.started": "2023-12-01T16:59:54.173138Z"
    },
    "id": "iLZOU2r1DpC8"
   },
   "outputs": [],
   "source": [
    "filenames = pd_data['File_name']\n",
    "targets = pd_data['Person_id']\n",
    "\n",
    " #main_ds = tf.data.Dataset.from_tensor_slices((audio_dir_path+filenames, targets))"
   ]
  },
  {
   "cell_type": "code",
   "execution_count": 155,
   "metadata": {
    "execution": {
     "iopub.execute_input": "2023-12-01T16:59:58.497238Z",
     "iopub.status.busy": "2023-12-01T16:59:58.496793Z",
     "iopub.status.idle": "2023-12-01T16:59:58.507641Z",
     "shell.execute_reply": "2023-12-01T16:59:58.506293Z",
     "shell.execute_reply.started": "2023-12-01T16:59:58.497204Z"
    },
    "id": "yaSCMuQdFdrr",
    "outputId": "73880244-a649-4a1d-df64-5dd65eb8e642"
   },
   "outputs": [
    {
     "data": {
      "text/plain": [
       "0               0_19_male/0_19_male_0.wav\n",
       "1               0_19_male/0_19_male_1.wav\n",
       "2               0_19_male/0_19_male_2.wav\n",
       "3               0_19_male/0_19_male_3.wav\n",
       "4               0_19_male/0_19_male_4.wav\n",
       "                      ...                \n",
       "1448    200_37_female/200_37_female_0.wav\n",
       "1449    200_37_female/200_37_female_1.wav\n",
       "1450    200_37_female/200_37_female_2.wav\n",
       "1451    200_37_female/200_37_female_3.wav\n",
       "1452    200_37_female/200_37_female_4.wav\n",
       "Name: File_name, Length: 1453, dtype: object"
      ]
     },
     "execution_count": 155,
     "metadata": {},
     "output_type": "execute_result"
    }
   ],
   "source": [
    "filenames"
   ]
  },
  {
   "cell_type": "code",
   "execution_count": 156,
   "metadata": {
    "execution": {
     "iopub.execute_input": "2023-12-01T17:00:03.118738Z",
     "iopub.status.busy": "2023-12-01T17:00:03.118304Z",
     "iopub.status.idle": "2023-12-01T17:00:03.125815Z",
     "shell.execute_reply": "2023-12-01T17:00:03.124438Z",
     "shell.execute_reply.started": "2023-12-01T17:00:03.118705Z"
    },
    "id": "io-eXRazrXgr",
    "outputId": "fbca77f6-8000-4e14-9e41-ba4b88aa6f79"
   },
   "outputs": [
    {
     "data": {
      "text/plain": [
       "pandas.core.series.Series"
      ]
     },
     "execution_count": 156,
     "metadata": {},
     "output_type": "execute_result"
    }
   ],
   "source": [
    "type(filenames)"
   ]
  },
  {
   "cell_type": "code",
   "execution_count": 162,
   "metadata": {
    "execution": {
     "iopub.execute_input": "2023-12-01T17:03:20.565581Z",
     "iopub.status.busy": "2023-12-01T17:03:20.565148Z",
     "iopub.status.idle": "2023-12-01T17:04:16.265292Z",
     "shell.execute_reply": "2023-12-01T17:04:16.264109Z",
     "shell.execute_reply.started": "2023-12-01T17:03:20.565550Z"
    },
    "id": "ABTy-iLPDzNF"
   },
   "outputs": [],
   "source": [
    "def load_wav_for_map(filename):\n",
    "  return load_wav_16k_mono(filename)\n",
    "\n",
    "new_values=[]\n",
    "for value in filenames:\n",
    "  new_values.append(load_wav_for_map(audio_dir_path+value))\n",
    "\n",
    "pd_data['File_name']=new_values\n",
    "\n",
    "filenames = [str(filename) for filename in filenames]\n",
    "\n",
    "# Convert the new_values list of NumPy arrays to a NumPy array\n",
    "new_values_np = np.array(new_values)\n",
    "\n",
    "# Create TensorFlow dataset\n",
    "main_ds = tf.data.Dataset.from_tensor_slices((new_values_np, targets))\n"
   ]
  },
  {
   "cell_type": "code",
   "execution_count": 163,
   "metadata": {
    "execution": {
     "iopub.execute_input": "2023-12-01T17:04:22.364138Z",
     "iopub.status.busy": "2023-12-01T17:04:22.362960Z",
     "iopub.status.idle": "2023-12-01T17:04:22.374171Z",
     "shell.execute_reply": "2023-12-01T17:04:22.372893Z",
     "shell.execute_reply.started": "2023-12-01T17:04:22.364080Z"
    },
    "id": "muwprm0zJdNz",
    "outputId": "670e0cac-c759-4d76-f6ee-4625ebef99bd"
   },
   "outputs": [
    {
     "data": {
      "text/plain": [
       "<TensorSliceDataset element_spec=(TensorSpec(shape=(16000,), dtype=tf.float32, name=None), TensorSpec(shape=(), dtype=tf.int64, name=None))>"
      ]
     },
     "execution_count": 163,
     "metadata": {},
     "output_type": "execute_result"
    }
   ],
   "source": [
    "main_ds"
   ]
  },
  {
   "cell_type": "code",
   "execution_count": 164,
   "metadata": {
    "execution": {
     "iopub.execute_input": "2023-12-01T17:04:28.980857Z",
     "iopub.status.busy": "2023-12-01T17:04:28.979581Z",
     "iopub.status.idle": "2023-12-01T17:04:29.119933Z",
     "shell.execute_reply": "2023-12-01T17:04:29.118649Z",
     "shell.execute_reply.started": "2023-12-01T17:04:28.980802Z"
    },
    "id": "7gP4xLVpERln",
    "outputId": "9fbf4933-16f3-4727-9d56-2e39a59d33cc"
   },
   "outputs": [
    {
     "data": {
      "text/plain": [
       "(TensorSpec(shape=(None, 1024), dtype=tf.float32, name=None),\n",
       " TensorSpec(shape=(None,), dtype=tf.int64, name=None))"
      ]
     },
     "execution_count": 164,
     "metadata": {},
     "output_type": "execute_result"
    }
   ],
   "source": [
    "def extract_embedding(wav_data, label):\n",
    "  ''' run YAMNet to extract embedding from the wav data '''\n",
    "  scores, embeddings, spectrogram = yamnet_model(wav_data)\n",
    "  num_embeddings = tf.shape(embeddings)[0]\n",
    "  return (embeddings,\n",
    "            tf.repeat(label, num_embeddings))\n",
    "\n",
    "# extract embedding\n",
    "main_ds = main_ds.map(extract_embedding) #.unbatch()\n",
    "main_ds.element_spec"
   ]
  },
  {
   "cell_type": "code",
   "execution_count": 165,
   "metadata": {
    "execution": {
     "iopub.execute_input": "2023-12-01T17:04:33.589394Z",
     "iopub.status.busy": "2023-12-01T17:04:33.588948Z",
     "iopub.status.idle": "2023-12-01T17:04:33.642266Z",
     "shell.execute_reply": "2023-12-01T17:04:33.641069Z",
     "shell.execute_reply.started": "2023-12-01T17:04:33.589361Z"
    },
    "id": "CqYWaDj8ElpP",
    "outputId": "a77239e4-7248-4d10-994a-b3036fb241b1"
   },
   "outputs": [
    {
     "name": "stdout",
     "output_type": "stream",
     "text": [
      "Model: \"my_model\"\n",
      "_________________________________________________________________\n",
      " Layer (type)                Output Shape              Param #   \n",
      "=================================================================\n",
      " dense_6 (Dense)             (None, 512)               524800    \n",
      "                                                                 \n",
      " dense_7 (Dense)             (None, 201)               103113    \n",
      "                                                                 \n",
      "=================================================================\n",
      "Total params: 627,913\n",
      "Trainable params: 627,913\n",
      "Non-trainable params: 0\n",
      "_________________________________________________________________\n"
     ]
    }
   ],
   "source": [
    "my_model = tf.keras.Sequential([\n",
    "    tf.keras.layers.Input(shape=(1024), dtype=tf.float32,\n",
    "                          name='input_embedding'),\n",
    "    tf.keras.layers.Dense(512, activation='relu'),\n",
    "    tf.keras.layers.Dense(201)\n",
    "], name='my_model')\n",
    "\n",
    "my_model.summary()"
   ]
  },
  {
   "cell_type": "code",
   "execution_count": 166,
   "metadata": {
    "execution": {
     "iopub.execute_input": "2023-12-01T17:04:38.218637Z",
     "iopub.status.busy": "2023-12-01T17:04:38.218194Z",
     "iopub.status.idle": "2023-12-01T17:04:38.232044Z",
     "shell.execute_reply": "2023-12-01T17:04:38.230930Z",
     "shell.execute_reply.started": "2023-12-01T17:04:38.218598Z"
    },
    "id": "bVOJHqtpEw5U"
   },
   "outputs": [],
   "source": [
    "my_model.compile(loss=tf.keras.losses.SparseCategoricalCrossentropy(from_logits=True),\n",
    "                 optimizer=\"adam\",\n",
    "                 metrics=['accuracy'])\n",
    "\n",
    "callback = tf.keras.callbacks.EarlyStopping(monitor='loss',\n",
    "                                            patience=3,\n",
    "                                            restore_best_weights=True)"
   ]
  },
  {
   "cell_type": "code",
   "execution_count": 167,
   "metadata": {
    "execution": {
     "iopub.execute_input": "2023-12-01T17:04:42.743842Z",
     "iopub.status.busy": "2023-12-01T17:04:42.743335Z",
     "iopub.status.idle": "2023-12-01T17:29:30.469545Z",
     "shell.execute_reply": "2023-12-01T17:29:30.467785Z",
     "shell.execute_reply.started": "2023-12-01T17:04:42.743786Z"
    },
    "id": "HjjHyYQsFqZP",
    "outputId": "2a863bc2-d1cf-41fc-9bbd-7523cbaf4d9f"
   },
   "outputs": [
    {
     "name": "stdout",
     "output_type": "stream",
     "text": [
      "Epoch 1/20\n",
      "1453/1453 [==============================] - 76s 52ms/step - loss: 5.7544 - accuracy: 0.0127 - val_loss: 5.5332 - val_accuracy: 0.0145\n",
      "Epoch 2/20\n",
      "1453/1453 [==============================] - 64s 44ms/step - loss: 4.3485 - accuracy: 0.0323 - val_loss: 5.0190 - val_accuracy: 0.0520\n",
      "Epoch 3/20\n",
      "1453/1453 [==============================] - 65s 44ms/step - loss: 3.6488 - accuracy: 0.0929 - val_loss: 4.9512 - val_accuracy: 0.0812\n",
      "Epoch 4/20\n",
      "1453/1453 [==============================] - 65s 44ms/step - loss: 3.1065 - accuracy: 0.1696 - val_loss: 5.3845 - val_accuracy: 0.1050\n",
      "Epoch 5/20\n",
      "1453/1453 [==============================] - 76s 52ms/step - loss: 2.6321 - accuracy: 0.2567 - val_loss: 6.0995 - val_accuracy: 0.1050\n",
      "Epoch 6/20\n",
      "1453/1453 [==============================] - 65s 44ms/step - loss: 2.3446 - accuracy: 0.3255 - val_loss: 6.0555 - val_accuracy: 0.1287\n",
      "Epoch 7/20\n",
      "1453/1453 [==============================] - 76s 52ms/step - loss: 2.0561 - accuracy: 0.4119 - val_loss: 5.9480 - val_accuracy: 0.1535\n",
      "Epoch 8/20\n",
      "1453/1453 [==============================] - 64s 44ms/step - loss: 1.9064 - accuracy: 0.4749 - val_loss: 5.7025 - val_accuracy: 0.1734\n",
      "Epoch 9/20\n",
      "1453/1453 [==============================] - 64s 44ms/step - loss: 1.6487 - accuracy: 0.5406 - val_loss: 5.1452 - val_accuracy: 0.2003\n",
      "Epoch 10/20\n",
      "1453/1453 [==============================] - 65s 44ms/step - loss: 1.4784 - accuracy: 0.5984 - val_loss: 5.7854 - val_accuracy: 0.2323\n",
      "Epoch 11/20\n",
      "1453/1453 [==============================] - 65s 44ms/step - loss: 1.3681 - accuracy: 0.6538 - val_loss: 5.5043 - val_accuracy: 0.2381\n",
      "Epoch 12/20\n",
      "1453/1453 [==============================] - 65s 45ms/step - loss: 1.1909 - accuracy: 0.6906 - val_loss: 5.0902 - val_accuracy: 0.2667\n",
      "Epoch 13/20\n",
      "1453/1453 [==============================] - 65s 45ms/step - loss: 1.0354 - accuracy: 0.7405 - val_loss: 5.1457 - val_accuracy: 0.2866\n",
      "Epoch 14/20\n",
      "1453/1453 [==============================] - 65s 45ms/step - loss: 0.9804 - accuracy: 0.7674 - val_loss: 4.4850 - val_accuracy: 0.3100\n",
      "Epoch 15/20\n",
      "1453/1453 [==============================] - 76s 52ms/step - loss: 0.8670 - accuracy: 0.7949 - val_loss: 4.4640 - val_accuracy: 0.3328\n",
      "Epoch 16/20\n",
      "1453/1453 [==============================] - 76s 52ms/step - loss: 0.8350 - accuracy: 0.8118 - val_loss: 4.2778 - val_accuracy: 0.3544\n",
      "Epoch 17/20\n",
      "1453/1453 [==============================] - 65s 45ms/step - loss: 0.7525 - accuracy: 0.8238 - val_loss: 4.0148 - val_accuracy: 0.3785\n",
      "Epoch 18/20\n",
      "1453/1453 [==============================] - 77s 53ms/step - loss: 0.6934 - accuracy: 0.8362 - val_loss: 3.6186 - val_accuracy: 0.4033\n",
      "Epoch 19/20\n",
      "1453/1453 [==============================] - 67s 46ms/step - loss: 0.7288 - accuracy: 0.8562 - val_loss: 3.2811 - val_accuracy: 0.4474\n",
      "Epoch 20/20\n",
      "1453/1453 [==============================] - 65s 45ms/step - loss: 0.6466 - accuracy: 0.8589 - val_loss: 3.1359 - val_accuracy: 0.4549\n"
     ]
    }
   ],
   "source": [
    "history = my_model.fit(main_ds,\n",
    "                       epochs=20,\n",
    "                       validation_data=main_ds,\n",
    "                       callbacks=callback)"
   ]
  },
  {
   "cell_type": "code",
   "execution_count": null,
   "metadata": {},
   "outputs": [],
   "source": []
  }
 ],
 "metadata": {
  "colab": {
   "provenance": []
  },
  "kaggle": {
   "accelerator": "none",
   "dataSources": [
    {
     "datasetId": 4090452,
     "sourceId": 7097057,
     "sourceType": "datasetVersion"
    },
    {
     "datasetId": 4092391,
     "sourceId": 7099627,
     "sourceType": "datasetVersion"
    }
   ],
   "dockerImageVersionId": 30587,
   "isGpuEnabled": false,
   "isInternetEnabled": true,
   "language": "python",
   "sourceType": "notebook"
  },
  "kernelspec": {
   "display_name": "Python 3 (ipykernel)",
   "language": "python",
   "name": "python3"
  },
  "language_info": {
   "codemirror_mode": {
    "name": "ipython",
    "version": 3
   },
   "file_extension": ".py",
   "mimetype": "text/x-python",
   "name": "python",
   "nbconvert_exporter": "python",
   "pygments_lexer": "ipython3",
   "version": "3.10.12"
  }
 },
 "nbformat": 4,
 "nbformat_minor": 4
}
